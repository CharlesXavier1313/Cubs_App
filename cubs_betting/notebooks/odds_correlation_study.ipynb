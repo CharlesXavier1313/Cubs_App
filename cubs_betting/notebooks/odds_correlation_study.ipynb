{
 "cells": [
  {
   "cell_type": "markdown",
   "metadata": {},
   "source": [
    "# Odds Correlation Study\n",
    "\n",
    "This notebook studies the correlation between odds movement and game outcomes."
   ]
  },
  {
   "cell_type": "code",
   "execution_count": null,
   "metadata": {},
   "outputs": [],
   "source": [
    "import pandas as pd\n",
    "import matplotlib.pyplot as plt\n",
    "import seaborn as sns\n",
    "\n",
    "# Load odds data\n",
    "odds_data = pd.read_csv('path/to/odds_data.csv')\n",
    "game_stats = pd.read_csv('path/to/game_stats.csv')\n",
    "\n",
    "# Merge odds data with game outcomes\n",
    "merged_data = pd.merge(odds_data, game_stats, on='game_id')\n",
    "\n",
    "# Example analysis: Correlation between odds movement and game outcomes\n",
    "sns.scatterplot(data=merged_data, x='odds_value', y='score')\n",
    "plt.title('Correlation Between Odds Movement and Game Outcomes')\n",
    "plt.xlabel('Odds Value')\n",
    "plt.ylabel('Score')\n",
    "plt.show()"
   ]
  }
 ],
 "metadata": {
  "kernelspec": {
   "display_name": "Python 3",
   "language": "python",
   "name": "python3"
  },
  "language_info": {
   "codemirror_mode": {
    "name": "ipython",
    "version": 3
   },
   "file_extension": ".py",
   "mimetype": "text/x-python",
   "name": "python",
   "nbconvert_exporter": "python",
   "pygments_lexer": "ipython3",
   "version": "3.8.5"
  }
 },
 "nbformat": 4,
 "nbformat_minor": 4
}
