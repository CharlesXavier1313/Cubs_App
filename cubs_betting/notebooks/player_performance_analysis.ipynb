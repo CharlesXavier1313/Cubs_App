{
 "cells": [
  {
   "cell_type": "markdown",
   "metadata": {},
   "source": [
    "# Player Performance Analysis\n",
    "\n",
    "This notebook analyzes player performance trends over time."
   ]
  },
  {
   "cell_type": "code",
   "execution_count": null,
   "metadata": {},
   "outputs": [],
   "source": [
    "import pandas as pd\n",
    "import matplotlib.pyplot as plt\n",
    "import seaborn as sns\n",
    "\n",
    "# Load player stats data\n",
    "player_stats = pd.read_csv('path/to/player_stats.csv')\n",
    "\n",
    "# Example analysis: Player performance trends over time\n",
    "player_stats['date'] = pd.to_datetime(player_stats['date'])\n",
    "player_stats.set_index('date', inplace=True)\n",
    "player_stats.groupby('player_id')['hits'].plot(legend=True)\n",
    "plt.title('Player Performance Trends Over Time')\n",
    "plt.xlabel('Date')\n",
    "plt.ylabel('Hits')\n",
    "plt.show()"
   ]
  }
 ],
 "metadata": {
  "kernelspec": {
   "display_name": "Python 3",
   "language": "python",
   "name": "python3"
  },
  "language_info": {
   "codemirror_mode": {
    "name": "ipython",
    "version": 3
   },
   "file_extension": ".py",
   "mimetype": "text/x-python",
   "name": "python",
   "nbconvert_exporter": "python",
   "pygments_lexer": "ipython3",
   "version": "3.8.5"
  }
 },
 "nbformat": 4,
 "nbformat_minor": 4
}
